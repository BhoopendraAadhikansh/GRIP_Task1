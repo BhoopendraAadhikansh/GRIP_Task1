{
  "nbformat": 4,
  "nbformat_minor": 0,
  "metadata": {
    "colab": {
      "name": "task1.ipynb",
      "provenance": []
    },
    "kernelspec": {
      "name": "python3",
      "display_name": "Python 3"
    }
  },
  "cells": [
    {
      "cell_type": "markdown",
      "metadata": {
        "id": "XKSKmQ29EvIA"
      },
      "source": [
        "##**BHOOPENDRA KUMAR**\n",
        "##**TASK 1** \n",
        "##**Supersvised Machine Learning**"
      ]
    },
    {
      "cell_type": "markdown",
      "metadata": {
        "id": "J9CNt70sFaq6"
      },
      "source": [
        "##**Import Libraries**"
      ]
    },
    {
      "cell_type": "code",
      "metadata": {
        "id": "ny6vo6f8FZHF"
      },
      "source": [
        "import numpy as np\n",
        "import pandas as pd\n",
        "import seaborn as sns\n",
        "import matplotlib.pyplot as plt\n",
        "from sklearn.model_selection import train_test_split\n",
        "from sklearn.linear_model import LinearRegression "
      ],
      "execution_count": 10,
      "outputs": []
    },
    {
      "cell_type": "markdown",
      "metadata": {
        "id": "Z-tRwmdrHXIt"
      },
      "source": [
        "##**Import Data Set**"
      ]
    },
    {
      "cell_type": "code",
      "metadata": {
        "id": "WHgUoKt0E13c"
      },
      "source": [
        "data=pd.read_csv(\"http://bit.ly/w-data\")"
      ],
      "execution_count": 12,
      "outputs": []
    },
    {
      "cell_type": "code",
      "metadata": {
        "colab": {
          "base_uri": "https://localhost:8080/"
        },
        "id": "58-NXYH1MmCg",
        "outputId": "fe7968bc-cea7-4575-92c4-f4236cb3a054"
      },
      "source": [
        "print(data.head())"
      ],
      "execution_count": 13,
      "outputs": [
        {
          "output_type": "stream",
          "text": [
            "   Hours  Scores\n",
            "0    2.5      21\n",
            "1    5.1      47\n",
            "2    3.2      27\n",
            "3    8.5      75\n",
            "4    3.5      30\n"
          ],
          "name": "stdout"
        }
      ]
    },
    {
      "cell_type": "code",
      "metadata": {
        "colab": {
          "base_uri": "https://localhost:8080/"
        },
        "id": "z0uNr996M1Ir",
        "outputId": "90fde187-75ee-4d64-c717-0a2ec8f1aeb7"
      },
      "source": [
        "print(data.tail())"
      ],
      "execution_count": 14,
      "outputs": [
        {
          "output_type": "stream",
          "text": [
            "    Hours  Scores\n",
            "20    2.7      30\n",
            "21    4.8      54\n",
            "22    3.8      35\n",
            "23    6.9      76\n",
            "24    7.8      86\n"
          ],
          "name": "stdout"
        }
      ]
    },
    {
      "cell_type": "markdown",
      "metadata": {
        "id": "vKOdHyvPP4Gu"
      },
      "source": [
        "##**Visualization of data Set**"
      ]
    },
    {
      "cell_type": "code",
      "metadata": {
        "colab": {
          "base_uri": "https://localhost:8080/",
          "height": 0
        },
        "id": "Vg_8j_1RBszJ",
        "outputId": "80b3ad5e-aa22-4a82-8773-858f3c1c1db7"
      },
      "source": [
        "data.plot(x=None,y=None,kind='bar',figsize=(21,5),grid=True,title='relat values of Hours and Scores')"
      ],
      "execution_count": 15,
      "outputs": [
        {
          "output_type": "execute_result",
          "data": {
            "text/plain": [
              "<matplotlib.axes._subplots.AxesSubplot at 0x7f4867642438>"
            ]
          },
          "metadata": {
            "tags": []
          },
          "execution_count": 15
        },
        {
          "output_type": "display_data",
          "data": {
            "image/png": "[encoded data removed]",
            "text/plain": [
              "<Figure size 1512x360 with 1 Axes>"
            ]
          },
          "metadata": {
            "tags": [],
            "needs_background": "light"
          }
        }
      ]
    },
    {
      "cell_type": "code",
      "metadata": {
        "colab": {
          "base_uri": "https://localhost:8080/",
          "height": 0
        },
        "id": "UVOUXlsqNZ2y",
        "outputId": "2e92ace0-a110-499b-b9fa-c7fc6876f813"
      },
      "source": [
        "sns.pairplot(data,vars=['Hours','Scores'])"
      ],
      "execution_count": 16,
      "outputs": [
        {
          "output_type": "execute_result",
          "data": {
            "text/plain": [
              "<seaborn.axisgrid.PairGrid at 0x7f486768ea20>"
            ]
          },
          "metadata": {
            "tags": []
          },
          "execution_count": 16
        },
        {
          "output_type": "display_data",
          "data": {
            "image/png": "[encoded data removed]",
            "text/plain": [
              "<Figure size 360x360 with 6 Axes>"
            ]
          },
          "metadata": {
            "tags": [],
            "needs_background": "light"
          }
        }
      ]
    },
    {
      "cell_type": "code",
      "metadata": {
        "colab": {
          "base_uri": "https://localhost:8080/",
          "height": 0
        },
        "id": "XWuFRjM_N4wy",
        "outputId": "dfb0b471-1dcf-4154-f0c5-4625bfebbf02"
      },
      "source": [
        "sns.scatterplot(x='Hours',y='Scores',data=data)"
      ],
      "execution_count": 17,
      "outputs": [
        {
          "output_type": "execute_result",
          "data": {
            "text/plain": [
              "<matplotlib.axes._subplots.AxesSubplot at 0x7f486768e898>"
            ]
          },
          "metadata": {
            "tags": []
          },
          "execution_count": 17
        },
        {
          "output_type": "display_data",
          "data": {
            "image/png": "[encoded data removed]",
            "text/plain": [
              "<Figure size 432x288 with 1 Axes>"
            ]
          },
          "metadata": {
            "tags": [],
            "needs_background": "light"
          }
        }
      ]
    },
    {
      "cell_type": "code",
      "metadata": {
        "colab": {
          "base_uri": "https://localhost:8080/",
          "height": 0
        },
        "id": "99jZlW2SPlBo",
        "outputId": "a727d313-344c-4a25-eb96-ae7ea0dfa1a1"
      },
      "source": [
        "sns.heatmap(data.corr(),annot=True)"
      ],
      "execution_count": 18,
      "outputs": [
        {
          "output_type": "execute_result",
          "data": {
            "text/plain": [
              "<matplotlib.axes._subplots.AxesSubplot at 0x7f485e92df98>"
            ]
          },
          "metadata": {
            "tags": []
          },
          "execution_count": 18
        },
        {
          "output_type": "display_data",
          "data": {
            "image/png": "[encoded data removed]",
            "text/plain": [
              "<Figure size 432x288 with 2 Axes>"
            ]
          },
          "metadata": {
            "tags": [],
            "needs_background": "light"
          }
        }
      ]
    },
    {
      "cell_type": "code",
      "metadata": {
        "colab": {
          "base_uri": "https://localhost:8080/",
          "height": 0
        },
        "id": "nbmFl5Z8XkD8",
        "outputId": "bb8443a8-4871-4580-fe42-d22da3ac8b36"
      },
      "source": [
        "sns.lmplot(x='Hours', y='Scores', data=data)"
      ],
      "execution_count": 19,
      "outputs": [
        {
          "output_type": "execute_result",
          "data": {
            "text/plain": [
              "<seaborn.axisgrid.FacetGrid at 0x7f485e84e630>"
            ]
          },
          "metadata": {
            "tags": []
          },
          "execution_count": 19
        },
        {
          "output_type": "display_data",
          "data": {
            "image/png": "[encoded data removed]",
            "text/plain": [
              "<Figure size 360x360 with 1 Axes>"
            ]
          },
          "metadata": {
            "tags": [],
            "needs_background": "light"
          }
        }
      ]
    },
    {
      "cell_type": "markdown",
      "metadata": {
        "id": "pZt4bjFXQGt6"
      },
      "source": [
        "##**Trainig and Test Dataset**"
      ]
    },
    {
      "cell_type": "code",
      "metadata": {
        "id": "NDqZ5PyjQP5Z"
      },
      "source": [
        "#make X and Y array from the data\n",
        "X=data.drop(['Scores'],axis=1).values\n",
        "Y=data.drop(['Hours'],axis=1).values"
      ],
      "execution_count": 20,
      "outputs": []
    },
    {
      "cell_type": "code",
      "metadata": {
        "colab": {
          "base_uri": "https://localhost:8080/"
        },
        "id": "lStQnl2CSaO5",
        "outputId": "9dda715e-773b-4a02-f3bd-ffe3ce912f06"
      },
      "source": [
        "#split the training and test data set\n",
        "X_train,X_test,Y_train,Y_test=train_test_split(X,Y,test_size=0.2,random_state=6)\n",
        "print(X_train.shape)\n",
        "print(X_test.shape)\n",
        "print(Y_train.shape)\n",
        "print(Y_test.shape)"
      ],
      "execution_count": 21,
      "outputs": [
        {
          "output_type": "stream",
          "text": [
            "(20, 1)\n",
            "(5, 1)\n",
            "(20, 1)\n",
            "(5, 1)\n"
          ],
          "name": "stdout"
        }
      ]
    },
    {
      "cell_type": "markdown",
      "metadata": {
        "id": "K8vcxO08QV_v"
      },
      "source": [
        "##**Model Define and Trainig**"
      ]
    },
    {
      "cell_type": "code",
      "metadata": {
        "colab": {
          "base_uri": "https://localhost:8080/"
        },
        "id": "8I8n-it5UhNV",
        "outputId": "879bd22f-7ea8-4fc1-c72f-a32613dfc593"
      },
      "source": [
        "#regerssion model \n",
        "model = LinearRegression()  \n",
        "model.fit(X_train, Y_train) "
      ],
      "execution_count": 24,
      "outputs": [
        {
          "output_type": "execute_result",
          "data": {
            "text/plain": [
              "LinearRegression(copy_X=True, fit_intercept=True, n_jobs=None, normalize=False)"
            ]
          },
          "metadata": {
            "tags": []
          },
          "execution_count": 24
        }
      ]
    },
    {
      "cell_type": "code",
      "metadata": {
        "colab": {
          "base_uri": "https://localhost:8080/",
          "height": 265
        },
        "id": "vr7cuLx4YYjU",
        "outputId": "35d3cc7f-b1e6-41ba-b5e4-267289546f86"
      },
      "source": [
        "#line Constant\n",
        "m=model.coef_\n",
        "c=model.intercept_\n",
        "line=m*X+c\n",
        "\n",
        "#plot the data set\n",
        "plt.scatter(X,Y)\n",
        "plt.plot(X,line)\n",
        "plt.show()"
      ],
      "execution_count": 25,
      "outputs": [
        {
          "output_type": "display_data",
          "data": {
            "image/png": "[encoded data removed]",
            "text/plain": [
              "<Figure size 432x288 with 1 Axes>"
            ]
          },
          "metadata": {
            "tags": [],
            "needs_background": "light"
          }
        }
      ]
    },
    {
      "cell_type": "markdown",
      "metadata": {
        "id": "BFVKyz2BQ0yA"
      },
      "source": [
        "##**Prediction Result**"
      ]
    },
    {
      "cell_type": "code",
      "metadata": {
        "colab": {
          "base_uri": "https://localhost:8080/",
          "height": 282
        },
        "id": "kAsmYu_1Z2Wj",
        "outputId": "8b98016e-39d8-4881-a480-7c52930d56fe"
      },
      "source": [
        "#predict the value for X_test\n",
        "Y_pred=model.predict(X_test)\n",
        "\n",
        "# Comparing Actual vs Predicted\n",
        "plt.scatter(X_test,Y_test,c='b')\n",
        "plt.scatter(X_test,Y_pred,c='r')\n",
        "plt.grid(which='major')\n",
        "plt.grid(which='minor')\n",
        "plt.legend(['Actual','predicted'])\n"
      ],
      "execution_count": 26,
      "outputs": [
        {
          "output_type": "execute_result",
          "data": {
            "text/plain": [
              "<matplotlib.legend.Legend at 0x7f485de51908>"
            ]
          },
          "metadata": {
            "tags": []
          },
          "execution_count": 26
        },
        {
          "output_type": "display_data",
          "data": {
            "image/png": "[encoded data removed]",
            "text/plain": [
              "<Figure size 432x288 with 1 Axes>"
            ]
          },
          "metadata": {
            "tags": [],
            "needs_background": "light"
          }
        }
      ]
    },
    {
      "cell_type": "code",
      "metadata": {
        "colab": {
          "base_uri": "https://localhost:8080/"
        },
        "id": "-G3YLCoeeE29",
        "outputId": "3ed40ee4-65de-40e8-9266-647c81afb2f4"
      },
      "source": [
        "#pridict the value for x=9.25\n",
        "pred=model.predict([[9.25]])\n",
        "print('The predict value for X=9.25 is: {}'.format(pred[0][0]))"
      ],
      "execution_count": 27,
      "outputs": [
        {
          "output_type": "stream",
          "text": [
            "The predict value for X=9.25 is: 94.38376623376621\n"
          ],
          "name": "stdout"
        }
      ]
    },
    {
      "cell_type": "code",
      "metadata": {
        "colab": {
          "base_uri": "https://localhost:8080/"
        },
        "id": "A4a6qPnnjNsR",
        "outputId": "3965b885-131a-495d-9b02-426d5123018b"
      },
      "source": [
        "#mean sqare value\n",
        "from sklearn import metrics  \n",
        "mse=metrics.mean_absolute_error(Y_test, Y_pred)\n",
        "print('The MSE of the model is {}'.format(mse))"
      ],
      "execution_count": 28,
      "outputs": [
        {
          "output_type": "stream",
          "text": [
            "The MSE of the model is 4.2304132231404825\n"
          ],
          "name": "stdout"
        }
      ]
    }
  ]
}